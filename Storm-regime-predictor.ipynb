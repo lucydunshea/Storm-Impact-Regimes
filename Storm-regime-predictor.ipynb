{
 "cells": [
  {
   "cell_type": "code",
   "execution_count": 1,
   "metadata": {},
   "outputs": [],
   "source": [
    "# Logic for working out storm impact regime\n",
    "\n",
    "# Import libraries\n",
    "import pandas as pd\n",
    "import numpy as np\n",
    "import math\n",
    "\n",
    "#  constants\n",
    "g = 9.81 # m/s^2"
   ]
  },
  {
   "cell_type": "code",
   "execution_count": 2,
   "metadata": {},
   "outputs": [
    {
     "data": {
      "text/html": [
       "<div>\n",
       "<style scoped>\n",
       "    .dataframe tbody tr th:only-of-type {\n",
       "        vertical-align: middle;\n",
       "    }\n",
       "\n",
       "    .dataframe tbody tr th {\n",
       "        vertical-align: top;\n",
       "    }\n",
       "\n",
       "    .dataframe thead th {\n",
       "        text-align: right;\n",
       "    }\n",
       "</style>\n",
       "<table border=\"1\" class=\"dataframe\">\n",
       "  <thead>\n",
       "    <tr style=\"text-align: right;\">\n",
       "      <th></th>\n",
       "      <th>Scenario</th>\n",
       "      <th>Hs</th>\n",
       "      <th>Wave_period</th>\n",
       "      <th>Zc</th>\n",
       "      <th>Zt</th>\n",
       "      <th>h_change</th>\n",
       "      <th>d_change</th>\n",
       "    </tr>\n",
       "  </thead>\n",
       "  <tbody>\n",
       "    <tr>\n",
       "      <th>0</th>\n",
       "      <td>WR1_2</td>\n",
       "      <td>0.500</td>\n",
       "      <td>2.524</td>\n",
       "      <td>0.44</td>\n",
       "      <td>0.38</td>\n",
       "      <td>0.18</td>\n",
       "      <td>25</td>\n",
       "    </tr>\n",
       "    <tr>\n",
       "      <th>1</th>\n",
       "      <td>WR1_3</td>\n",
       "      <td>0.587</td>\n",
       "      <td>2.638</td>\n",
       "      <td>0.44</td>\n",
       "      <td>0.38</td>\n",
       "      <td>0.18</td>\n",
       "      <td>25</td>\n",
       "    </tr>\n",
       "    <tr>\n",
       "      <th>2</th>\n",
       "      <td>WR1_7</td>\n",
       "      <td>1.125</td>\n",
       "      <td>3.342</td>\n",
       "      <td>0.44</td>\n",
       "      <td>0.38</td>\n",
       "      <td>0.18</td>\n",
       "      <td>25</td>\n",
       "    </tr>\n",
       "    <tr>\n",
       "      <th>3</th>\n",
       "      <td>WR1_8</td>\n",
       "      <td>0.783</td>\n",
       "      <td>2.895</td>\n",
       "      <td>0.44</td>\n",
       "      <td>0.38</td>\n",
       "      <td>0.18</td>\n",
       "      <td>25</td>\n",
       "    </tr>\n",
       "    <tr>\n",
       "      <th>4</th>\n",
       "      <td>WR2_2</td>\n",
       "      <td>0.500</td>\n",
       "      <td>2.524</td>\n",
       "      <td>0.51</td>\n",
       "      <td>0.42</td>\n",
       "      <td>0.12</td>\n",
       "      <td>50</td>\n",
       "    </tr>\n",
       "  </tbody>\n",
       "</table>\n",
       "</div>"
      ],
      "text/plain": [
       "  Scenario     Hs  Wave_period    Zc    Zt  h_change  d_change\n",
       "0    WR1_2  0.500        2.524  0.44  0.38      0.18        25\n",
       "1    WR1_3  0.587        2.638  0.44  0.38      0.18        25\n",
       "2    WR1_7  1.125        3.342  0.44  0.38      0.18        25\n",
       "3    WR1_8  0.783        2.895  0.44  0.38      0.18        25\n",
       "4    WR2_2  0.500        2.524  0.51  0.42      0.12        50"
      ]
     },
     "execution_count": 2,
     "metadata": {},
     "output_type": "execute_result"
    }
   ],
   "source": [
    "filename = 'C:/Users/lucyd/OneDrive - University of Canterbury/2024/Coastal_Geoscience/wave_condtion_data.csv'\n",
    "# Import data\n",
    "data = pd.read_csv(filename)\n",
    "data.head()\n",
    "\n"
   ]
  },
  {
   "cell_type": "code",
   "execution_count": 3,
   "metadata": {},
   "outputs": [],
   "source": [
    "# based on dataframe\n",
    "for condition in data:\n",
    "    # 1. find wavelength at deep water\n",
    "    data['L0'] = g / (2 * math.pi) * data['Wave_period']**2\n",
    "    # 2. find nearshore slope\n",
    "    data['beta_m'] = data['h_change'] / data['d_change']\n",
    "    # 3. Calculate wave setup\n",
    "    data['wave_setup'] = 0.35 * data['beta_m'] * ((data['Hs'] * data['L0'])**0.5)\n",
    "    # 4. Calculate swash runup\n",
    "    data['swash'] = (data['Hs'] * data['L0'] * (0.563 * (data['beta_m']**2) + 0.005))**0.5\n",
    "    # 5. calculate n50\n",
    "    data['n50'] = data['wave_setup']\n",
    "    # 6. calculate n98\n",
    "    data['n98'] = data['n50'] + data['swash']\n",
    "data.loc[data['n98'] < data['Zt'], 'regime'] = 'less than Zt, swash'\n",
    "data.loc[data['n98'] > data['Zt'], 'regime'] = 'greater than Zt, collision'\n",
    "data.loc[data['n98'] > data['Zc'], 'regime'] = 'greater than Zc, overwash'\n",
    "data.loc[data['n50'] > data['Zc'], 'regime'] = 'greater than Zc, inundation'\n"
   ]
  },
  {
   "cell_type": "code",
   "execution_count": 4,
   "metadata": {},
   "outputs": [],
   "source": [
    "data.to_csv('C:/Users/lucyd/OneDrive - University of Canterbury/2024/Coastal_Geoscience/wave_condtion_data_regimes.csv')"
   ]
  }
 ],
 "metadata": {
  "kernelspec": {
   "display_name": "GIS",
   "language": "python",
   "name": "python3"
  },
  "language_info": {
   "codemirror_mode": {
    "name": "ipython",
    "version": 3
   },
   "file_extension": ".py",
   "mimetype": "text/x-python",
   "name": "python",
   "nbconvert_exporter": "python",
   "pygments_lexer": "ipython3",
   "version": "3.9.18"
  }
 },
 "nbformat": 4,
 "nbformat_minor": 2
}
